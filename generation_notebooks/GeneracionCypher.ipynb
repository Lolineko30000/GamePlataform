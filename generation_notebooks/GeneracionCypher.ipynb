{
 "cells": [
  {
   "cell_type": "code",
   "execution_count": 1,
   "metadata": {},
   "outputs": [],
   "source": [
    "import pandas as pd"
   ]
  },
  {
   "cell_type": "markdown",
   "metadata": {},
   "source": [
    "## Lectura de los csvs"
   ]
  },
  {
   "cell_type": "code",
   "execution_count": 2,
   "metadata": {},
   "outputs": [],
   "source": [
    "productoras_df = pd.read_csv('../csvs/Productora.csv')\n",
    "sagas_df = pd.read_csv('../csvs/Saga.csv')\n",
    "juegos_df = pd.read_csv('../csvs/Juego.csv')\n",
    "usuarios_df = pd.read_csv('../csvs/Usuario.csv')\n",
    "partidas_df = pd.read_csv('../csvs/Partida.csv')\n",
    "biblioteca_df = pd.read_csv('../csvs/Biblioteca.csv')"
   ]
  },
  {
   "cell_type": "markdown",
   "metadata": {},
   "source": [
    "## Funciones auxiliares"
   ]
  },
  {
   "cell_type": "code",
   "execution_count": 3,
   "metadata": {},
   "outputs": [],
   "source": [
    "def create_node_queries(df, label, id_column):\n",
    "    queries = []\n",
    "    for _, row in df.iterrows():\n",
    "        properties = ', '.join([f'{col}: {repr(val)}' for col, val in row.items()])\n",
    "        queries.append(f\"CREATE (:{label} {{{properties}}});\")\n",
    "    return queries\n",
    "\n",
    "# Function to create relationships\n",
    "def create_relationship_queries(df, start_label, end_label, rel_type, start_key, end_key):\n",
    "    queries = []\n",
    "    for _, row in df.iterrows():\n",
    "        start_id = row[start_key]\n",
    "        end_id = row[end_key]\n",
    "        queries.append(f\"MATCH (a:{start_label} {{{start_key}: {start_id}}}), (b:{end_label} {{{end_key}: {end_id}}}) CREATE (a)-[:{rel_type}]->(b);\")\n",
    "    return queries\n"
   ]
  },
  {
   "cell_type": "markdown",
   "metadata": {},
   "source": [
    "## Creacion del archivo cypher"
   ]
  },
  {
   "cell_type": "code",
   "execution_count": 4,
   "metadata": {},
   "outputs": [],
   "source": [
    "productora_queries = create_node_queries(productoras_df, 'Productora', 'IdProductora')\n",
    "saga_queries = create_node_queries(sagas_df, 'Saga', 'IdSaga')\n",
    "juego_queries = create_node_queries(juegos_df, 'Juego', 'IdJuego')\n",
    "usuario_queries = create_node_queries(usuarios_df, 'Usuario', 'IdUsuario')\n",
    "partida_queries = create_node_queries(partidas_df, 'Partida', 'IdJuego')  # Assuming there's no IdPartida\n",
    "\n",
    "# For Ventas, we need to create nodes with multiple properties\n",
    "venta_queries = []\n",
    "for _, row in biblioteca_df.iterrows():venta_queries.append(f\"CREATE (:Venta {{{', '.join([f'{col}: {repr(val)}' for col, val in row.items()])}}});\")\n",
    "\n",
    "# Create relationship queries\n",
    "productora_saga_rel_queries = create_relationship_queries(sagas_df, 'Productora', 'Saga', 'TIENE', 'IDPRODUCTORA', 'IDSAGA')\n",
    "saga_juego_rel_queries = create_relationship_queries(juegos_df, 'Saga', 'Juego', 'TIENE', 'IDSAGA', 'IDJUEGO')\n",
    "juego_usuario_partida_rel_queries = create_relationship_queries(partidas_df, 'Juego', 'Usuario', 'TIENE', 'IDJUEGO', 'IDUSUARIO')+create_relationship_queries(partidas_df, 'Usuario', 'Partida', 'TIENE', 'IDUSUARIO', 'IDUSUARIO')\n",
    "juego_usuario_venta_rel_queries = create_relationship_queries(biblioteca_df, 'Juego', 'Venta', 'TIENE', 'IDJUEGO', 'IDJUEGO')+create_relationship_queries(biblioteca_df, 'Usuario', 'Venta', 'TIENE', 'IDUSUARIO', 'IDUSUARIO')\n",
    "\n",
    "# Combine all queries\n",
    "all_queries = {\n",
    "    \"productora_queries\":productora_queries,\n",
    "    \"saga_queries\":saga_queries,\n",
    "    \"juego_queries\":juego_queries,\n",
    "    \"usuario_queries\":usuario_queries,\n",
    "    \"partida_queries\":partida_queries,\n",
    "    \"venta_queries\":venta_queries,\n",
    "    \n",
    "    \"productora_saga_rel_queries\":productora_saga_rel_queries,\n",
    "    \"saga_juego_rel_queries\":saga_juego_rel_queries,\n",
    "    \"juego_usuario_partida_rel_queries\":juego_usuario_partida_rel_queries,\n",
    "    \"juego_usuario_venta_rel_querie\":juego_usuario_venta_rel_queries\n",
    "    }\n"
   ]
  },
  {
   "cell_type": "code",
   "execution_count": 7,
   "metadata": {},
   "outputs": [],
   "source": [
    "for name, q in all_queries.items():\n",
    "    with open(f'../neo4j/{name}.cypher', 'w') as file:file.write('\\n'.join(list(set(q))))\n"
   ]
  }
 ],
 "metadata": {
  "kernelspec": {
   "display_name": "Python 3",
   "language": "python",
   "name": "python3"
  },
  "language_info": {
   "codemirror_mode": {
    "name": "ipython",
    "version": 3
   },
   "file_extension": ".py",
   "mimetype": "text/x-python",
   "name": "python",
   "nbconvert_exporter": "python",
   "pygments_lexer": "ipython3",
   "version": "3.12.3"
  }
 },
 "nbformat": 4,
 "nbformat_minor": 2
}
