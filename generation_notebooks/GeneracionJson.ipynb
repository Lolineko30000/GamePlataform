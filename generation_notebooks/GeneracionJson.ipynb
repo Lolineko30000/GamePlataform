{
 "cells": [
  {
   "cell_type": "code",
   "execution_count": 20,
   "metadata": {},
   "outputs": [],
   "source": [
    "import pandas as pd\n",
    "import json\n",
    "from numpyencoder import NumpyEncoder"
   ]
  },
  {
   "cell_type": "code",
   "execution_count": 14,
   "metadata": {},
   "outputs": [],
   "source": [
    "Avatar=pd.read_csv(\"../csvs/Avatar.csv\")\n",
    "Partida=pd.read_csv(\"../csvs/Partida.csv\")\n",
    "Deseado=pd.read_csv(\"../csvs/Deseado.csv\")\n",
    "Biblioteca=pd.read_csv(\"../csvs/Biblioteca.csv\")\n",
    "Usuario=pd.read_csv(\"../csvs/Usuario.csv\")\n",
    "Productora=pd.read_csv(\"../csvs/Productora.csv\")\n",
    "Saga=pd.read_csv(\"../csvs/Saga.csv\")\n",
    "Juego=pd.read_csv(\"../csvs/Juego.csv\")"
   ]
  },
  {
   "cell_type": "markdown",
   "metadata": {},
   "source": [
    "# Generacion de los jsons"
   ]
  },
  {
   "cell_type": "markdown",
   "metadata": {},
   "source": [
    "### Partidas de los jugadores"
   ]
  },
  {
   "cell_type": "code",
   "execution_count": 15,
   "metadata": {},
   "outputs": [],
   "source": [
    "# convert date columns to unix timestamps\n",
    "date_columns = ['FECHAINICIO', 'FECHAFIN']\n",
    "\n",
    "for df in [Partida]:\n",
    "    for col in date_columns:\n",
    "        df[col] = pd.to_datetime(df[col]).astype(int)# convert to unix timestamp in seconds\n",
    "\n",
    "# create nested json structure\n",
    "productoras = []\n",
    "\n",
    "for productora_id, productora_group in Productora.groupby('IDPRODUCTORA'):\n",
    "    productora_data = {\n",
    "        'nombre_productora': productora_group['NOMBRE'].iloc[0],\n",
    "        'sagas': []\n",
    "    }\n",
    "    \n",
    "    for saga_id, saga_group in Saga[Saga['IDPRODUCTORA'] == productora_id].groupby('IDSAGA'):\n",
    "        saga_data = {\n",
    "            'nombre_saga': saga_group['NOMBRE'].iloc[0],\n",
    "            'juegos': []\n",
    "        }\n",
    "        \n",
    "        for juego_id, juego_group in Juego[Juego['IDSAGA'] == saga_id].groupby('IDJUEGO'):\n",
    "            juego_data = {\n",
    "                'titulo_juego': juego_group['TITULO'].iloc[0],\n",
    "                'partidas': []\n",
    "            }\n",
    "            \n",
    "            for _,partida_group in Partida[Partida['IDJUEGO'] == juego_id].groupby('IDJUEGO'):\n",
    "                \n",
    "                for i in range(partida_group.shape[0]):\n",
    "                \n",
    "                    idUsuario = partida_group['IDUSUARIO'].iloc[i]\n",
    "                    fecha_ini = partida_group['FECHAINICIO'].iloc[i]\n",
    "                    fecha_fin = partida_group['FECHAFIN'].iloc[i]\n",
    "                \n",
    "                    partida_data = {\n",
    "                        'fechaini': fecha_ini,\n",
    "                        'fechafin': fecha_fin,\n",
    "                        'duracion': abs(fecha_ini - fecha_fin),\n",
    "                        'usuario': \n",
    "                        {\n",
    "                            'avatar':Avatar[Avatar['IDUSUARIO'] == idUsuario]['NOMBRE'].iloc[0],\n",
    "                            'username':Usuario[Usuario['IDUSUARIO'] == idUsuario]['NOMBREUSUARIO'].iloc[0]\n",
    "                        }\n",
    "                    }\n",
    "                    juego_data['partidas'].append(partida_data)\n",
    "            \n",
    "            saga_data['juegos'].append(juego_data)\n",
    "        \n",
    "        productora_data['sagas'].append(saga_data)\n",
    "    \n",
    "    productoras.append(productora_data)\n",
    "\n",
    "# convert to json\n",
    "json_data = productoras"
   ]
  },
  {
   "cell_type": "markdown",
   "metadata": {},
   "source": [
    "### Compras"
   ]
  },
  {
   "cell_type": "code",
   "execution_count": 17,
   "metadata": {},
   "outputs": [],
   "source": [
    "# convert date columns to unix timestamps\n",
    "date_columns = ['FECHAINICIO', 'FECHAFIN']\n",
    "\n",
    "for df in [Partida]:\n",
    "    for col in date_columns:\n",
    "        df[col] = pd.to_datetime(df[col]).astype(int) // 10**9  # convert to unix timestamp in seconds\n",
    "\n",
    "# create nested json structure\n",
    "productoras = []\n",
    "\n",
    "for productora_id, productora_group in Productora.groupby('IDPRODUCTORA'):\n",
    "    productora_data = {\n",
    "        'nombre_productora': productora_group['NOMBRE'].iloc[0],\n",
    "        'sagas': []\n",
    "    }\n",
    "    \n",
    "    for saga_id, saga_group in Saga[Saga['IDPRODUCTORA'] == productora_id].groupby('IDSAGA'):\n",
    "        saga_data = {\n",
    "            'nombre_saga': saga_group['NOMBRE'].iloc[0],\n",
    "            'juegos': []\n",
    "        }\n",
    "        \n",
    "        for juego_id, juego_group in Juego[Juego['IDSAGA'] == saga_id].groupby('IDJUEGO'):\n",
    "            juego_data = {\n",
    "                'titulo_juego': juego_group['TITULO'].iloc[0],\n",
    "                'ventas': []\n",
    "            }\n",
    "            \n",
    "            for _,biblioteca_group in Biblioteca[Biblioteca['IDJUEGO'] == juego_id].groupby('IDJUEGO'):\n",
    "                \n",
    "                for i in range(biblioteca_group.shape[0]):\n",
    "                \n",
    "                    idUsuario = biblioteca_group['IDUSUARIO'].iloc[i]\n",
    "                    idJuego = biblioteca_group['IDJUEGO'].iloc[i]\n",
    "                    \n",
    "                    ventas_data = {\n",
    "                        'fecha_compra': biblioteca_group['FECHAADQUISICION'].iloc[i],\n",
    "                        'modo_pago':biblioteca_group['MODOADQUISICION'].iloc[i],\n",
    "                        'precio':biblioteca_group['PRECIOCOMPRA'].iloc[i],\n",
    "                        'descuento':biblioteca_group['DESCUENTO'].iloc[i],\n",
    "                        'juego':Juego[Juego['IDJUEGO'] == idJuego]['TITULO'].iloc[0],\n",
    "                        'usuario': Usuario[Usuario['IDUSUARIO'] == idUsuario]['NOMBREUSUARIO'].iloc[0]\n",
    "                        \n",
    "                    }\n",
    "                    juego_data['ventas'].append(ventas_data)\n",
    "            \n",
    "            saga_data['juegos'].append(juego_data)\n",
    "        \n",
    "        productora_data['sagas'].append(saga_data)\n",
    "    \n",
    "    productoras.append(productora_data)\n",
    "\n",
    "# convert to json\n",
    "json_data_compras = productoras"
   ]
  },
  {
   "cell_type": "markdown",
   "metadata": {},
   "source": [
    "### Guardado"
   ]
  },
  {
   "cell_type": "code",
   "execution_count": 21,
   "metadata": {},
   "outputs": [],
   "source": [
    "with open('../jsons/jsosns_partidas.json', 'w+') as file:json.dump(json_data, fp = file,separators=(', ', ': '), ensure_ascii=False,cls=NumpyEncoder)"
   ]
  },
  {
   "cell_type": "code",
   "execution_count": 22,
   "metadata": {},
   "outputs": [],
   "source": [
    "with open('../jsons/jsosns_compras.json', 'w+') as file:json.dump(json_data_compras, fp = file,separators=(', ', ': '), ensure_ascii=False,cls=NumpyEncoder)"
   ]
  },
  {
   "cell_type": "code",
   "execution_count": null,
   "metadata": {},
   "outputs": [],
   "source": []
  }
 ],
 "metadata": {
  "kernelspec": {
   "display_name": "Python 3",
   "language": "python",
   "name": "python3"
  },
  "language_info": {
   "codemirror_mode": {
    "name": "ipython",
    "version": 3
   },
   "file_extension": ".py",
   "mimetype": "text/x-python",
   "name": "python",
   "nbconvert_exporter": "python",
   "pygments_lexer": "ipython3",
   "version": "3.12.3"
  }
 },
 "nbformat": 4,
 "nbformat_minor": 2
}
