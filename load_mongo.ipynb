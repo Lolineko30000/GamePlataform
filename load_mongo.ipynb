{
 "cells": [
  {
   "cell_type": "code",
   "execution_count": 1,
   "metadata": {},
   "outputs": [],
   "source": [
    "import json\n",
    "import bson\n",
    "from pymongo import MongoClient"
   ]
  },
  {
   "cell_type": "code",
   "execution_count": 2,
   "metadata": {},
   "outputs": [],
   "source": [
    "client = MongoClient(\"mongodb://localhost:27017/\")\n",
    "db = client.Partidas\n",
    "collection = db.partidas"
   ]
  },
  {
   "cell_type": "code",
   "execution_count": 3,
   "metadata": {},
   "outputs": [],
   "source": [
    "JSON_FILE_PATH = './jsons/jsosns_partidas.json'"
   ]
  },
  {
   "cell_type": "code",
   "execution_count": 4,
   "metadata": {},
   "outputs": [],
   "source": [
    "with open(JSON_FILE_PATH, 'r') as file:json_data = json.load(file)"
   ]
  },
  {
   "cell_type": "code",
   "execution_count": 5,
   "metadata": {},
   "outputs": [
    {
     "ename": "OperationFailure",
     "evalue": "BSONObj size: 28880586 (0x1B8AECA) is invalid. Size must be between 0 and 16793600(16MB) First element: _id: ObjectId('6661449aab8eecd4bb09a0d8'), full error: {'ok': 0.0, 'errmsg': \"BSONObj size: 28880586 (0x1B8AECA) is invalid. Size must be between 0 and 16793600(16MB) First element: _id: ObjectId('6661449aab8eecd4bb09a0d8')\", 'code': 10334, 'codeName': 'BSONObjectTooLarge'}",
     "output_type": "error",
     "traceback": [
      "\u001b[0;31m---------------------------------------------------------------------------\u001b[0m",
      "\u001b[0;31mOperationFailure\u001b[0m                          Traceback (most recent call last)",
      "\u001b[1;32m/home/lolineko/Documents/GamePlataform/load_mongo.ipynb Cell 5\u001b[0m line \u001b[0;36m4\n\u001b[1;32m      <a href='vscode-notebook-cell:/home/lolineko/Documents/GamePlataform/load_mongo.ipynb#W3sZmlsZQ%3D%3D?line=1'>2</a>\u001b[0m     bson_data \u001b[39m=\u001b[39m [bson\u001b[39m.\u001b[39mBSON\u001b[39m.\u001b[39mencode(doc) \u001b[39mfor\u001b[39;00m doc \u001b[39min\u001b[39;00m json_data]\n\u001b[1;32m      <a href='vscode-notebook-cell:/home/lolineko/Documents/GamePlataform/load_mongo.ipynb#W3sZmlsZQ%3D%3D?line=2'>3</a>\u001b[0m     documents \u001b[39m=\u001b[39m [bson\u001b[39m.\u001b[39mBSON\u001b[39m.\u001b[39mdecode(b) \u001b[39mfor\u001b[39;00m b \u001b[39min\u001b[39;00m bson_data]\n\u001b[0;32m----> <a href='vscode-notebook-cell:/home/lolineko/Documents/GamePlataform/load_mongo.ipynb#W3sZmlsZQ%3D%3D?line=3'>4</a>\u001b[0m     collection\u001b[39m.\u001b[39;49minsert_many(documents)\n\u001b[1;32m      <a href='vscode-notebook-cell:/home/lolineko/Documents/GamePlataform/load_mongo.ipynb#W3sZmlsZQ%3D%3D?line=4'>5</a>\u001b[0m \u001b[39melse\u001b[39;00m:\n\u001b[1;32m      <a href='vscode-notebook-cell:/home/lolineko/Documents/GamePlataform/load_mongo.ipynb#W3sZmlsZQ%3D%3D?line=5'>6</a>\u001b[0m     bson_data \u001b[39m=\u001b[39m bson\u001b[39m.\u001b[39mBSON\u001b[39m.\u001b[39mencode(json_data)\n",
      "File \u001b[0;32m~/.local/lib/python3.12/site-packages/pymongo/_csot.py:108\u001b[0m, in \u001b[0;36mapply.<locals>.csot_wrapper\u001b[0;34m(self, *args, **kwargs)\u001b[0m\n\u001b[1;32m    106\u001b[0m         \u001b[39mwith\u001b[39;00m _TimeoutContext(timeout):\n\u001b[1;32m    107\u001b[0m             \u001b[39mreturn\u001b[39;00m func(\u001b[39mself\u001b[39m, \u001b[39m*\u001b[39margs, \u001b[39m*\u001b[39m\u001b[39m*\u001b[39mkwargs)\n\u001b[0;32m--> 108\u001b[0m \u001b[39mreturn\u001b[39;00m func(\u001b[39mself\u001b[39;49m, \u001b[39m*\u001b[39;49margs, \u001b[39m*\u001b[39;49m\u001b[39m*\u001b[39;49mkwargs)\n",
      "File \u001b[0;32m~/.local/lib/python3.12/site-packages/pymongo/collection.py:742\u001b[0m, in \u001b[0;36mCollection.insert_many\u001b[0;34m(self, documents, ordered, bypass_document_validation, session, comment)\u001b[0m\n\u001b[1;32m    740\u001b[0m blk \u001b[39m=\u001b[39m _Bulk(\u001b[39mself\u001b[39m, ordered, bypass_document_validation, comment\u001b[39m=\u001b[39mcomment)\n\u001b[1;32m    741\u001b[0m blk\u001b[39m.\u001b[39mops \u001b[39m=\u001b[39m \u001b[39mlist\u001b[39m(gen())\n\u001b[0;32m--> 742\u001b[0m blk\u001b[39m.\u001b[39;49mexecute(write_concern, session, _Op\u001b[39m.\u001b[39;49mINSERT)\n\u001b[1;32m    743\u001b[0m \u001b[39mreturn\u001b[39;00m InsertManyResult(inserted_ids, write_concern\u001b[39m.\u001b[39macknowledged)\n",
      "File \u001b[0;32m~/.local/lib/python3.12/site-packages/pymongo/bulk.py:595\u001b[0m, in \u001b[0;36m_Bulk.execute\u001b[0;34m(self, write_concern, session, operation)\u001b[0m\n\u001b[1;32m    593\u001b[0m         \u001b[39mreturn\u001b[39;00m \u001b[39mNone\u001b[39;00m\n\u001b[1;32m    594\u001b[0m \u001b[39melse\u001b[39;00m:\n\u001b[0;32m--> 595\u001b[0m     \u001b[39mreturn\u001b[39;00m \u001b[39mself\u001b[39;49m\u001b[39m.\u001b[39;49mexecute_command(generator, write_concern, session, operation)\n",
      "File \u001b[0;32m~/.local/lib/python3.12/site-packages/pymongo/bulk.py:452\u001b[0m, in \u001b[0;36m_Bulk.execute_command\u001b[0;34m(self, generator, write_concern, session, operation)\u001b[0m\n\u001b[1;32m    441\u001b[0m     \u001b[39mself\u001b[39m\u001b[39m.\u001b[39m_execute_command(\n\u001b[1;32m    442\u001b[0m         generator,\n\u001b[1;32m    443\u001b[0m         write_concern,\n\u001b[0;32m   (...)\u001b[0m\n\u001b[1;32m    448\u001b[0m         full_result,\n\u001b[1;32m    449\u001b[0m     )\n\u001b[1;32m    451\u001b[0m client \u001b[39m=\u001b[39m \u001b[39mself\u001b[39m\u001b[39m.\u001b[39mcollection\u001b[39m.\u001b[39mdatabase\u001b[39m.\u001b[39mclient\n\u001b[0;32m--> 452\u001b[0m client\u001b[39m.\u001b[39;49m_retryable_write(\n\u001b[1;32m    453\u001b[0m     \u001b[39mself\u001b[39;49m\u001b[39m.\u001b[39;49mis_retryable,\n\u001b[1;32m    454\u001b[0m     retryable_bulk,\n\u001b[1;32m    455\u001b[0m     session,\n\u001b[1;32m    456\u001b[0m     operation,\n\u001b[1;32m    457\u001b[0m     bulk\u001b[39m=\u001b[39;49m\u001b[39mself\u001b[39;49m,\n\u001b[1;32m    458\u001b[0m     operation_id\u001b[39m=\u001b[39;49mop_id,\n\u001b[1;32m    459\u001b[0m )\n\u001b[1;32m    461\u001b[0m \u001b[39mif\u001b[39;00m full_result[\u001b[39m\"\u001b[39m\u001b[39mwriteErrors\u001b[39m\u001b[39m\"\u001b[39m] \u001b[39mor\u001b[39;00m full_result[\u001b[39m\"\u001b[39m\u001b[39mwriteConcernErrors\u001b[39m\u001b[39m\"\u001b[39m]:\n\u001b[1;32m    462\u001b[0m     _raise_bulk_write_error(full_result)\n",
      "File \u001b[0;32m~/.local/lib/python3.12/site-packages/pymongo/mongo_client.py:1569\u001b[0m, in \u001b[0;36mMongoClient._retryable_write\u001b[0;34m(self, retryable, func, session, operation, bulk, operation_id)\u001b[0m\n\u001b[1;32m   1555\u001b[0m \u001b[39m\u001b[39m\u001b[39m\"\"\"Execute an operation with consecutive retries if possible\u001b[39;00m\n\u001b[1;32m   1556\u001b[0m \n\u001b[1;32m   1557\u001b[0m \u001b[39mReturns func()'s return value on success. On error retries the same\u001b[39;00m\n\u001b[0;32m   (...)\u001b[0m\n\u001b[1;32m   1566\u001b[0m \u001b[39m:param bulk: bulk abstraction to execute operations in bulk, defaults to None\u001b[39;00m\n\u001b[1;32m   1567\u001b[0m \u001b[39m\"\"\"\u001b[39;00m\n\u001b[1;32m   1568\u001b[0m \u001b[39mwith\u001b[39;00m \u001b[39mself\u001b[39m\u001b[39m.\u001b[39m_tmp_session(session) \u001b[39mas\u001b[39;00m s:\n\u001b[0;32m-> 1569\u001b[0m     \u001b[39mreturn\u001b[39;00m \u001b[39mself\u001b[39;49m\u001b[39m.\u001b[39;49m_retry_with_session(retryable, func, s, bulk, operation, operation_id)\n",
      "File \u001b[0;32m~/.local/lib/python3.12/site-packages/pymongo/mongo_client.py:1455\u001b[0m, in \u001b[0;36mMongoClient._retry_with_session\u001b[0;34m(self, retryable, func, session, bulk, operation, operation_id)\u001b[0m\n\u001b[1;32m   1450\u001b[0m \u001b[39m# Ensure that the options supports retry_writes and there is a valid session not in\u001b[39;00m\n\u001b[1;32m   1451\u001b[0m \u001b[39m# transaction, otherwise, we will not support retry behavior for this txn.\u001b[39;00m\n\u001b[1;32m   1452\u001b[0m retryable \u001b[39m=\u001b[39m \u001b[39mbool\u001b[39m(\n\u001b[1;32m   1453\u001b[0m     retryable \u001b[39mand\u001b[39;00m \u001b[39mself\u001b[39m\u001b[39m.\u001b[39moptions\u001b[39m.\u001b[39mretry_writes \u001b[39mand\u001b[39;00m session \u001b[39mand\u001b[39;00m \u001b[39mnot\u001b[39;00m session\u001b[39m.\u001b[39min_transaction\n\u001b[1;32m   1454\u001b[0m )\n\u001b[0;32m-> 1455\u001b[0m \u001b[39mreturn\u001b[39;00m \u001b[39mself\u001b[39;49m\u001b[39m.\u001b[39;49m_retry_internal(\n\u001b[1;32m   1456\u001b[0m     func\u001b[39m=\u001b[39;49mfunc,\n\u001b[1;32m   1457\u001b[0m     session\u001b[39m=\u001b[39;49msession,\n\u001b[1;32m   1458\u001b[0m     bulk\u001b[39m=\u001b[39;49mbulk,\n\u001b[1;32m   1459\u001b[0m     operation\u001b[39m=\u001b[39;49moperation,\n\u001b[1;32m   1460\u001b[0m     retryable\u001b[39m=\u001b[39;49mretryable,\n\u001b[1;32m   1461\u001b[0m     operation_id\u001b[39m=\u001b[39;49moperation_id,\n\u001b[1;32m   1462\u001b[0m )\n",
      "File \u001b[0;32m~/.local/lib/python3.12/site-packages/pymongo/_csot.py:108\u001b[0m, in \u001b[0;36mapply.<locals>.csot_wrapper\u001b[0;34m(self, *args, **kwargs)\u001b[0m\n\u001b[1;32m    106\u001b[0m         \u001b[39mwith\u001b[39;00m _TimeoutContext(timeout):\n\u001b[1;32m    107\u001b[0m             \u001b[39mreturn\u001b[39;00m func(\u001b[39mself\u001b[39m, \u001b[39m*\u001b[39margs, \u001b[39m*\u001b[39m\u001b[39m*\u001b[39mkwargs)\n\u001b[0;32m--> 108\u001b[0m \u001b[39mreturn\u001b[39;00m func(\u001b[39mself\u001b[39;49m, \u001b[39m*\u001b[39;49margs, \u001b[39m*\u001b[39;49m\u001b[39m*\u001b[39;49mkwargs)\n",
      "File \u001b[0;32m~/.local/lib/python3.12/site-packages/pymongo/mongo_client.py:1501\u001b[0m, in \u001b[0;36mMongoClient._retry_internal\u001b[0;34m(self, func, session, bulk, operation, is_read, address, read_pref, retryable, operation_id)\u001b[0m\n\u001b[1;32m   1464\u001b[0m \u001b[39m@_csot\u001b[39m\u001b[39m.\u001b[39mapply\n\u001b[1;32m   1465\u001b[0m \u001b[39mdef\u001b[39;00m \u001b[39m_retry_internal\u001b[39m(\n\u001b[1;32m   1466\u001b[0m     \u001b[39mself\u001b[39m,\n\u001b[0;32m   (...)\u001b[0m\n\u001b[1;32m   1475\u001b[0m     operation_id: Optional[\u001b[39mint\u001b[39m] \u001b[39m=\u001b[39m \u001b[39mNone\u001b[39;00m,\n\u001b[1;32m   1476\u001b[0m ) \u001b[39m-\u001b[39m\u001b[39m>\u001b[39m T:\n\u001b[1;32m   1477\u001b[0m \u001b[39m    \u001b[39m\u001b[39m\"\"\"Internal retryable helper for all client transactions.\u001b[39;00m\n\u001b[1;32m   1478\u001b[0m \n\u001b[1;32m   1479\u001b[0m \u001b[39m    :param func: Callback function we want to retry\u001b[39;00m\n\u001b[0;32m   (...)\u001b[0m\n\u001b[1;32m   1488\u001b[0m \u001b[39m    :return: Output of the calling func()\u001b[39;00m\n\u001b[1;32m   1489\u001b[0m \u001b[39m    \"\"\"\u001b[39;00m\n\u001b[1;32m   1490\u001b[0m     \u001b[39mreturn\u001b[39;00m _ClientConnectionRetryable(\n\u001b[1;32m   1491\u001b[0m         mongo_client\u001b[39m=\u001b[39;49m\u001b[39mself\u001b[39;49m,\n\u001b[1;32m   1492\u001b[0m         func\u001b[39m=\u001b[39;49mfunc,\n\u001b[1;32m   1493\u001b[0m         bulk\u001b[39m=\u001b[39;49mbulk,\n\u001b[1;32m   1494\u001b[0m         operation\u001b[39m=\u001b[39;49moperation,\n\u001b[1;32m   1495\u001b[0m         is_read\u001b[39m=\u001b[39;49mis_read,\n\u001b[1;32m   1496\u001b[0m         session\u001b[39m=\u001b[39;49msession,\n\u001b[1;32m   1497\u001b[0m         read_pref\u001b[39m=\u001b[39;49mread_pref,\n\u001b[1;32m   1498\u001b[0m         address\u001b[39m=\u001b[39;49maddress,\n\u001b[1;32m   1499\u001b[0m         retryable\u001b[39m=\u001b[39;49mretryable,\n\u001b[1;32m   1500\u001b[0m         operation_id\u001b[39m=\u001b[39;49moperation_id,\n\u001b[0;32m-> 1501\u001b[0m     )\u001b[39m.\u001b[39;49mrun()\n",
      "File \u001b[0;32m~/.local/lib/python3.12/site-packages/pymongo/mongo_client.py:2347\u001b[0m, in \u001b[0;36m_ClientConnectionRetryable.run\u001b[0;34m(self)\u001b[0m\n\u001b[1;32m   2345\u001b[0m \u001b[39mself\u001b[39m\u001b[39m.\u001b[39m_check_last_error(check_csot\u001b[39m=\u001b[39m\u001b[39mTrue\u001b[39;00m)\n\u001b[1;32m   2346\u001b[0m \u001b[39mtry\u001b[39;00m:\n\u001b[0;32m-> 2347\u001b[0m     \u001b[39mreturn\u001b[39;00m \u001b[39mself\u001b[39m\u001b[39m.\u001b[39m_read() \u001b[39mif\u001b[39;00m \u001b[39mself\u001b[39m\u001b[39m.\u001b[39m_is_read \u001b[39melse\u001b[39;00m \u001b[39mself\u001b[39;49m\u001b[39m.\u001b[39;49m_write()\n\u001b[1;32m   2348\u001b[0m \u001b[39mexcept\u001b[39;00m ServerSelectionTimeoutError:\n\u001b[1;32m   2349\u001b[0m     \u001b[39m# The application may think the write was never attempted\u001b[39;00m\n\u001b[1;32m   2350\u001b[0m     \u001b[39m# if we raise ServerSelectionTimeoutError on the retry\u001b[39;00m\n\u001b[1;32m   2351\u001b[0m     \u001b[39m# attempt. Raise the original exception instead.\u001b[39;00m\n\u001b[1;32m   2352\u001b[0m     \u001b[39mself\u001b[39m\u001b[39m.\u001b[39m_check_last_error()\n",
      "File \u001b[0;32m~/.local/lib/python3.12/site-packages/pymongo/mongo_client.py:2464\u001b[0m, in \u001b[0;36m_ClientConnectionRetryable._write\u001b[0;34m(self)\u001b[0m\n\u001b[1;32m   2462\u001b[0m             \u001b[39mself\u001b[39m\u001b[39m.\u001b[39m_check_last_error()\n\u001b[1;32m   2463\u001b[0m             \u001b[39mself\u001b[39m\u001b[39m.\u001b[39m_retryable \u001b[39m=\u001b[39m \u001b[39mFalse\u001b[39;00m\n\u001b[0;32m-> 2464\u001b[0m         \u001b[39mreturn\u001b[39;00m \u001b[39mself\u001b[39;49m\u001b[39m.\u001b[39;49m_func(\u001b[39mself\u001b[39;49m\u001b[39m.\u001b[39;49m_session, conn, \u001b[39mself\u001b[39;49m\u001b[39m.\u001b[39;49m_retryable)  \u001b[39m# type: ignore\u001b[39;00m\n\u001b[1;32m   2465\u001b[0m \u001b[39mexcept\u001b[39;00m PyMongoError \u001b[39mas\u001b[39;00m exc:\n\u001b[1;32m   2466\u001b[0m     \u001b[39mif\u001b[39;00m \u001b[39mnot\u001b[39;00m \u001b[39mself\u001b[39m\u001b[39m.\u001b[39m_retryable:\n",
      "File \u001b[0;32m~/.local/lib/python3.12/site-packages/pymongo/bulk.py:441\u001b[0m, in \u001b[0;36m_Bulk.execute_command.<locals>.retryable_bulk\u001b[0;34m(session, conn, retryable)\u001b[0m\n\u001b[1;32m    438\u001b[0m \u001b[39mdef\u001b[39;00m \u001b[39mretryable_bulk\u001b[39m(\n\u001b[1;32m    439\u001b[0m     session: Optional[ClientSession], conn: Connection, retryable: \u001b[39mbool\u001b[39m\n\u001b[1;32m    440\u001b[0m ) \u001b[39m-\u001b[39m\u001b[39m>\u001b[39m \u001b[39mNone\u001b[39;00m:\n\u001b[0;32m--> 441\u001b[0m     \u001b[39mself\u001b[39;49m\u001b[39m.\u001b[39;49m_execute_command(\n\u001b[1;32m    442\u001b[0m         generator,\n\u001b[1;32m    443\u001b[0m         write_concern,\n\u001b[1;32m    444\u001b[0m         session,\n\u001b[1;32m    445\u001b[0m         conn,\n\u001b[1;32m    446\u001b[0m         op_id,\n\u001b[1;32m    447\u001b[0m         retryable,\n\u001b[1;32m    448\u001b[0m         full_result,\n\u001b[1;32m    449\u001b[0m     )\n",
      "File \u001b[0;32m~/.local/lib/python3.12/site-packages/pymongo/bulk.py:386\u001b[0m, in \u001b[0;36m_Bulk._execute_command\u001b[0;34m(self, generator, write_concern, session, conn, op_id, retryable, full_result, final_write_concern)\u001b[0m\n\u001b[1;32m    384\u001b[0m \u001b[39m# Run as many ops as possible in one command.\u001b[39;00m\n\u001b[1;32m    385\u001b[0m \u001b[39mif\u001b[39;00m write_concern\u001b[39m.\u001b[39macknowledged:\n\u001b[0;32m--> 386\u001b[0m     result, to_send \u001b[39m=\u001b[39m bwc\u001b[39m.\u001b[39;49mexecute(cmd, ops, client)\n\u001b[1;32m    388\u001b[0m     \u001b[39m# Retryable writeConcernErrors halt the execution of this run.\u001b[39;00m\n\u001b[1;32m    389\u001b[0m     wce \u001b[39m=\u001b[39m result\u001b[39m.\u001b[39mget(\u001b[39m\"\u001b[39m\u001b[39mwriteConcernError\u001b[39m\u001b[39m\"\u001b[39m, {})\n",
      "File \u001b[0;32m~/.local/lib/python3.12/site-packages/pymongo/message.py:960\u001b[0m, in \u001b[0;36m_BulkWriteContext.execute\u001b[0;34m(self, cmd, docs, client)\u001b[0m\n\u001b[1;32m    956\u001b[0m \u001b[39mdef\u001b[39;00m \u001b[39mexecute\u001b[39m(\n\u001b[1;32m    957\u001b[0m     \u001b[39mself\u001b[39m, cmd: MutableMapping[\u001b[39mstr\u001b[39m, Any], docs: \u001b[39mlist\u001b[39m[Mapping[\u001b[39mstr\u001b[39m, Any]], client: MongoClient\n\u001b[1;32m    958\u001b[0m ) \u001b[39m-\u001b[39m\u001b[39m>\u001b[39m \u001b[39mtuple\u001b[39m[Mapping[\u001b[39mstr\u001b[39m, Any], \u001b[39mlist\u001b[39m[Mapping[\u001b[39mstr\u001b[39m, Any]]]:\n\u001b[1;32m    959\u001b[0m     request_id, msg, to_send \u001b[39m=\u001b[39m \u001b[39mself\u001b[39m\u001b[39m.\u001b[39m__batch_command(cmd, docs)\n\u001b[0;32m--> 960\u001b[0m     result \u001b[39m=\u001b[39m \u001b[39mself\u001b[39;49m\u001b[39m.\u001b[39;49mwrite_command(cmd, request_id, msg, to_send, client)\n\u001b[1;32m    961\u001b[0m     client\u001b[39m.\u001b[39m_process_response(result, \u001b[39mself\u001b[39m\u001b[39m.\u001b[39msession)\n\u001b[1;32m    962\u001b[0m     \u001b[39mreturn\u001b[39;00m result, to_send\n",
      "File \u001b[0;32m~/.local/lib/python3.12/site-packages/pymongo/helpers.py:342\u001b[0m, in \u001b[0;36m_handle_reauth.<locals>.inner\u001b[0;34m(*args, **kwargs)\u001b[0m\n\u001b[1;32m    339\u001b[0m \u001b[39mfrom\u001b[39;00m \u001b[39mpymongo\u001b[39;00m\u001b[39m.\u001b[39;00m\u001b[39mpool\u001b[39;00m \u001b[39mimport\u001b[39;00m Connection\n\u001b[1;32m    341\u001b[0m \u001b[39mtry\u001b[39;00m:\n\u001b[0;32m--> 342\u001b[0m     \u001b[39mreturn\u001b[39;00m func(\u001b[39m*\u001b[39;49margs, \u001b[39m*\u001b[39;49m\u001b[39m*\u001b[39;49mkwargs)\n\u001b[1;32m    343\u001b[0m \u001b[39mexcept\u001b[39;00m OperationFailure \u001b[39mas\u001b[39;00m exc:\n\u001b[1;32m    344\u001b[0m     \u001b[39mif\u001b[39;00m no_reauth:\n",
      "File \u001b[0;32m~/.local/lib/python3.12/site-packages/pymongo/message.py:1118\u001b[0m, in \u001b[0;36m_BulkWriteContext.write_command\u001b[0;34m(self, cmd, request_id, msg, docs, client)\u001b[0m\n\u001b[1;32m   1116\u001b[0m     \u001b[39mself\u001b[39m\u001b[39m.\u001b[39m_start(cmd, request_id, docs)\n\u001b[1;32m   1117\u001b[0m \u001b[39mtry\u001b[39;00m:\n\u001b[0;32m-> 1118\u001b[0m     reply \u001b[39m=\u001b[39m \u001b[39mself\u001b[39;49m\u001b[39m.\u001b[39;49mconn\u001b[39m.\u001b[39;49mwrite_command(request_id, msg, \u001b[39mself\u001b[39;49m\u001b[39m.\u001b[39;49mcodec)\n\u001b[1;32m   1119\u001b[0m     duration \u001b[39m=\u001b[39m datetime\u001b[39m.\u001b[39mdatetime\u001b[39m.\u001b[39mnow() \u001b[39m-\u001b[39m \u001b[39mself\u001b[39m\u001b[39m.\u001b[39mstart_time\n\u001b[1;32m   1120\u001b[0m     \u001b[39mif\u001b[39;00m _COMMAND_LOGGER\u001b[39m.\u001b[39misEnabledFor(logging\u001b[39m.\u001b[39mDEBUG):\n",
      "File \u001b[0;32m~/.local/lib/python3.12/site-packages/pymongo/pool.py:1078\u001b[0m, in \u001b[0;36mConnection.write_command\u001b[0;34m(self, request_id, msg, codec_options)\u001b[0m\n\u001b[1;32m   1075\u001b[0m result \u001b[39m=\u001b[39m reply\u001b[39m.\u001b[39mcommand_response(codec_options)\n\u001b[1;32m   1077\u001b[0m \u001b[39m# Raises NotPrimaryError or OperationFailure.\u001b[39;00m\n\u001b[0;32m-> 1078\u001b[0m helpers\u001b[39m.\u001b[39;49m_check_command_response(result, \u001b[39mself\u001b[39;49m\u001b[39m.\u001b[39;49mmax_wire_version)\n\u001b[1;32m   1079\u001b[0m \u001b[39mreturn\u001b[39;00m result\n",
      "File \u001b[0;32m~/.local/lib/python3.12/site-packages/pymongo/helpers.py:248\u001b[0m, in \u001b[0;36m_check_command_response\u001b[0;34m(response, max_wire_version, allowable_errors, parse_write_concern_error)\u001b[0m\n\u001b[1;32m    245\u001b[0m \u001b[39melif\u001b[39;00m code \u001b[39m==\u001b[39m \u001b[39m43\u001b[39m:\n\u001b[1;32m    246\u001b[0m     \u001b[39mraise\u001b[39;00m CursorNotFound(errmsg, code, response, max_wire_version)\n\u001b[0;32m--> 248\u001b[0m \u001b[39mraise\u001b[39;00m OperationFailure(errmsg, code, response, max_wire_version)\n",
      "\u001b[0;31mOperationFailure\u001b[0m: BSONObj size: 28880586 (0x1B8AECA) is invalid. Size must be between 0 and 16793600(16MB) First element: _id: ObjectId('6661449aab8eecd4bb09a0d8'), full error: {'ok': 0.0, 'errmsg': \"BSONObj size: 28880586 (0x1B8AECA) is invalid. Size must be between 0 and 16793600(16MB) First element: _id: ObjectId('6661449aab8eecd4bb09a0d8')\", 'code': 10334, 'codeName': 'BSONObjectTooLarge'}"
     ]
    }
   ],
   "source": [
    "if isinstance(json_data, list):\n",
    "    bson_data = [bson.BSON.encode(doc) for doc in json_data]\n",
    "    documents = [bson.BSON.decode(b) for b in bson_data]\n",
    "    collection.insert_many(documents)\n",
    "else:\n",
    "    bson_data = bson.BSON.encode(json_data)\n",
    "    document = bson.BSON.decode(bson_data)\n",
    "    collection.insert_one(document)\n"
   ]
  }
 ],
 "metadata": {
  "kernelspec": {
   "display_name": "Python 3",
   "language": "python",
   "name": "python3"
  },
  "language_info": {
   "codemirror_mode": {
    "name": "ipython",
    "version": 3
   },
   "file_extension": ".py",
   "mimetype": "text/x-python",
   "name": "python",
   "nbconvert_exporter": "python",
   "pygments_lexer": "ipython3",
   "version": "3.12.3"
  }
 },
 "nbformat": 4,
 "nbformat_minor": 2
}
