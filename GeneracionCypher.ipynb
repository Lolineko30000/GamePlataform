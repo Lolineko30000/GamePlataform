{
 "cells": [
  {
   "cell_type": "code",
   "execution_count": 14,
   "metadata": {},
   "outputs": [],
   "source": [
    "import pandas as pd"
   ]
  },
  {
   "cell_type": "code",
   "execution_count": 15,
   "metadata": {},
   "outputs": [],
   "source": [
    "productoras_df = pd.read_csv('./csvs/Productora.csv')\n",
    "sagas_df = pd.read_csv('./csvs/Saga.csv')\n",
    "juegos_df = pd.read_csv('./csvs/Juego.csv')\n",
    "usuarios_df = pd.read_csv('./csvs/Usuario.csv')\n",
    "partidas_df = pd.read_csv('./csvs/Partida.csv')\n",
    "biblioteca_df = pd.read_csv('./csvs/Biblioteca.csv')"
   ]
  },
  {
   "cell_type": "code",
   "execution_count": 16,
   "metadata": {},
   "outputs": [],
   "source": [
    "def create_node_queries(df, label, id_column):\n",
    "    queries = []\n",
    "    for _, row in df.iterrows():\n",
    "        properties = ', '.join([f'{col}: {repr(val)}' for col, val in row.items()])\n",
    "        queries.append(f\"CREATE (:{label} {{{properties}}});\")\n",
    "    return queries\n",
    "\n",
    "# Function to create relationships\n",
    "def create_relationship_queries(df, start_label, end_label, rel_type, start_key, end_key):\n",
    "    queries = []\n",
    "    for _, row in df.iterrows():\n",
    "        start_id = row[start_key]\n",
    "        end_id = row[end_key]\n",
    "        queries.append(f\"MATCH (a:{start_label} {{{start_key}: {start_id}}}), (b:{end_label} {{{end_key}: {end_id}}}) CREATE (a)-[:{rel_type}]->(b);\")\n",
    "    return queries\n"
   ]
  },
  {
   "cell_type": "code",
   "execution_count": 17,
   "metadata": {},
   "outputs": [],
   "source": [
    "productora_queries = create_node_queries(productoras_df, 'Productora', 'IdProductora')\n",
    "saga_queries = create_node_queries(sagas_df, 'Saga', 'IdSaga')\n",
    "juego_queries = create_node_queries(juegos_df, 'Juego', 'IdJuego')\n",
    "usuario_queries = create_node_queries(usuarios_df, 'Usuario', 'IdUsuario')\n",
    "partida_queries = create_node_queries(partidas_df, 'Partida', 'IdJuego')  # Assuming there's no IdPartida\n",
    "\n",
    "# For Ventas, we need to create nodes with multiple properties\n",
    "venta_queries = []\n",
    "for _, row in biblioteca_df.iterrows():\n",
    "    properties = ', '.join([f'{col}: {repr(val)}' for col, val in row.items()])\n",
    "    venta_queries.append(f\"CREATE (:Venta {{{properties}}});\")\n",
    "\n",
    "# Create relationship queries\n",
    "productora_saga_rel_queries = create_relationship_queries(sagas_df, 'Productora', 'Saga', 'TIENE', 'IdProductora', 'IdSaga')\n",
    "saga_juego_rel_queries = create_relationship_queries(juegos_df, 'Saga', 'Juego', 'TIENE', 'IdSaga', 'IdJuego')\n",
    "juego_usuario_partida_rel_queries = create_relationship_queries(partidas_df, 'Juego', 'Partida', 'TIENE', 'IdJuego', 'IdJuego') + \\\n",
    "                                    create_relationship_queries(partidas_df, 'Usuario', 'Partida', 'TIENE', 'IdUsuario', 'IdUsuario')\n",
    "juego_usuario_venta_rel_queries = create_relationship_queries(biblioteca_df, 'Juego', 'Venta', 'TIENE', 'IdJuego', 'IdJuego') + \\\n",
    "                                  create_relationship_queries(biblioteca_df, 'Usuario', 'Venta', 'TIENE', 'IdUsuario', 'IdUsuario')\n",
    "\n",
    "# Combine all queries\n",
    "all_queries = productora_queries + saga_queries + juego_queries + usuario_queries + partida_queries + venta_queries + \\\n",
    "              productora_saga_rel_queries + saga_juego_rel_queries + juego_usuario_partida_rel_queries + juego_usuario_venta_rel_queries\n"
   ]
  },
  {
   "cell_type": "code",
   "execution_count": 18,
   "metadata": {},
   "outputs": [],
   "source": [
    "with open('./neo4j/neo4j_queries.cypher', 'w') as file:file.write('\\n'.join(all_queries))\n"
   ]
  }
 ],
 "metadata": {
  "kernelspec": {
   "display_name": "Python 3",
   "language": "python",
   "name": "python3"
  },
  "language_info": {
   "codemirror_mode": {
    "name": "ipython",
    "version": 3
   },
   "file_extension": ".py",
   "mimetype": "text/x-python",
   "name": "python",
   "nbconvert_exporter": "python",
   "pygments_lexer": "ipython3",
   "version": "3.12.3"
  }
 },
 "nbformat": 4,
 "nbformat_minor": 2
}
