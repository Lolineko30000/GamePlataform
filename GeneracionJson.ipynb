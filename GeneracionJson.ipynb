{
 "cells": [
  {
   "cell_type": "code",
   "execution_count": null,
   "metadata": {},
   "outputs": [],
   "source": [
    "import pandas as pd"
   ]
  },
  {
   "cell_type": "code",
   "execution_count": null,
   "metadata": {},
   "outputs": [],
   "source": [
    "\n",
    "Avatar=pd.read_csv(\"./csvs/Avatar\"),\n",
    "Partida=pd.read_csv(\"./csvs/Partida\"),\n",
    "Deseado=pd.read_csv(\"./csvs/Deseado\"),\n",
    "Biblioteca=pd.read_csv(\"./csvs/Biblioteca\"),\n",
    "Usuario=pd.read_csv(\"./csvs/Usuario\"),\n",
    "Productora=pd.read_csv(\"./csvs/Productora\"),\n",
    "Saga=pd.read_csv(\"./csvs/Saga\"),\n",
    "Juego=pd.read_csv(\"./csvs/Juego\")\n",
    "    "
   ]
  },
  {
   "cell_type": "markdown",
   "metadata": {},
   "source": [
    "# Generacion de los jsons"
   ]
  },
  {
   "cell_type": "markdown",
   "metadata": {},
   "source": [
    "### Partidas de los jugadores"
   ]
  },
  {
   "cell_type": "code",
   "execution_count": null,
   "metadata": {},
   "outputs": [],
   "source": [
    "# convert date columns to unix timestamps\n",
    "date_columns = ['FechaInicio', 'FechaFin']\n",
    "\n",
    "for df in [Partida]:\n",
    "    for col in date_columns:\n",
    "        df[col] = pd.to_datetime(df[col]).astype(int)# convert to unix timestamp in seconds\n",
    "\n",
    "# create nested json structure\n",
    "productoras = []\n",
    "\n",
    "for productora_id, productora_group in Productora.groupby('IdProductora'):\n",
    "    productora_data = {\n",
    "        'nombre_productora': productora_group['Nombre'].iloc[0],\n",
    "        'sagas': []\n",
    "    }\n",
    "    \n",
    "    for saga_id, saga_group in Saga[Saga['IdProductora'] == productora_id].groupby('IdSaga'):\n",
    "        saga_data = {\n",
    "            'nombre_saga': saga_group['Nombre'].iloc[0],\n",
    "            'juegos': []\n",
    "        }\n",
    "        \n",
    "        for juego_id, juego_group in Juego[Juego['IdSaga'] == saga_id].groupby('IdJuego'):\n",
    "            juego_data = {\n",
    "                'titulo_juego': juego_group['Titulo'].iloc[0],\n",
    "                'partidas': []\n",
    "            }\n",
    "            \n",
    "            for _,partida_group in Partida[Partida['IdJuego'] == juego_id].groupby('IdJuego'):\n",
    "                \n",
    "                for i in range(partida_group.shape[0]):\n",
    "                \n",
    "                    idUsuario = partida_group['IdUsuario'].iloc[i]\n",
    "                    fecha_ini = partida_group['FechaInicio'].iloc[i]\n",
    "                    fecha_fin = partida_group['FechaFin'].iloc[i]\n",
    "                \n",
    "                    partida_data = {\n",
    "                        'fechaini': fecha_ini,\n",
    "                        'fechafin': fecha_fin,\n",
    "                        'duracion': fecha_ini - fecha_fin,\n",
    "                        'usuario': \n",
    "                        {\n",
    "                            'avatar':Avatar[Avatar['IdUsuario'] == idUsuario]['Nombre'].iloc[0],\n",
    "                            'username':Usuario[Usuario['IdUsuario'] == idUsuario]['NombreUsuario'].iloc[0]\n",
    "                        }\n",
    "                    }\n",
    "                    juego_data['partidas'].append(partida_data)\n",
    "            \n",
    "            saga_data['juegos'].append(juego_data)\n",
    "        \n",
    "        productora_data['sagas'].append(saga_data)\n",
    "    \n",
    "    productoras.append(productora_data)\n",
    "\n",
    "# convert to json\n",
    "json_data = productoras"
   ]
  },
  {
   "cell_type": "markdown",
   "metadata": {},
   "source": [
    "### Compras"
   ]
  },
  {
   "cell_type": "code",
   "execution_count": null,
   "metadata": {},
   "outputs": [],
   "source": [
    "# convert date columns to unix timestamps\n",
    "date_columns = ['FechaInicio', 'FechaFin']\n",
    "\n",
    "for df in [Partida]:\n",
    "    for col in date_columns:\n",
    "        df[col] = pd.to_datetime(df[col]).astype(int) // 10**9  # convert to unix timestamp in seconds\n",
    "\n",
    "# create nested json structure\n",
    "productoras = []\n",
    "\n",
    "for productora_id, productora_group in Productora.groupby('IdProductora'):\n",
    "    productora_data = {\n",
    "        'nombre_productora': productora_group['Nombre'].iloc[0],\n",
    "        'sagas': []\n",
    "    }\n",
    "    \n",
    "    for saga_id, saga_group in Saga[Saga['IdProductora'] == productora_id].groupby('IdSaga'):\n",
    "        saga_data = {\n",
    "            'nombre_saga': saga_group['Nombre'].iloc[0],\n",
    "            'juegos': []\n",
    "        }\n",
    "        \n",
    "        for juego_id, juego_group in Juego[Juego['IdSaga'] == saga_id].groupby('IdJuego'):\n",
    "            juego_data = {\n",
    "                'titulo_juego': juego_group['Titulo'].iloc[0],\n",
    "                'ventas': []\n",
    "            }\n",
    "            \n",
    "            for _,biblioteca_group in Biblioteca[Biblioteca['IdJuego'] == juego_id].groupby('IdJuego'):\n",
    "                \n",
    "                for i in range(biblioteca_group.shape[0]):\n",
    "                \n",
    "                    idUsuario = biblioteca_group['IdUsuario'].iloc[i]\n",
    "                    idJuego = biblioteca_group['IdJuego'].iloc[i]\n",
    "                    \n",
    "                    ventas_data = {\n",
    "                        'fecha_compra': biblioteca_group['FechaAdquisicion'].iloc[i],\n",
    "                        'modo_pago':biblioteca_group['ModoAdquisicion'].iloc[i],\n",
    "                        'precio':biblioteca_group['PrecioCompra'].iloc[i],\n",
    "                        'descuento':biblioteca_group['Descuento'].iloc[i],\n",
    "                        'juego':Juego[Juego['IdJuego'] == idJuego]['Titulo'].iloc[0],\n",
    "                        'usuario': Usuario[Usuario['IdUsuario'] == idUsuario]['NombreUsuario'].iloc[0]\n",
    "                        \n",
    "                    }\n",
    "                    juego_data['ventas'].append(ventas_data)\n",
    "            \n",
    "            saga_data['juegos'].append(juego_data)\n",
    "        \n",
    "        productora_data['sagas'].append(saga_data)\n",
    "    \n",
    "    productoras.append(productora_data)\n",
    "\n",
    "# convert to json\n",
    "json_data_compras = productoras"
   ]
  },
  {
   "cell_type": "markdown",
   "metadata": {},
   "source": [
    "### Guardado"
   ]
  },
  {
   "cell_type": "code",
   "execution_count": null,
   "metadata": {},
   "outputs": [],
   "source": [
    "with open('./jsons/jsosns_partidas.json', 'w+') as file:json.dump(json_data, fp = file,separators=(', ', ': '), ensure_ascii=False,cls=NumpyEncoder)"
   ]
  },
  {
   "cell_type": "code",
   "execution_count": null,
   "metadata": {},
   "outputs": [],
   "source": [
    "with open('./jsons/jsosns_compras.json', 'w+') as file:json.dump(json_data_compras, fp = file,separators=(', ', ': '), ensure_ascii=False,cls=NumpyEncoder)"
   ]
  }
 ],
 "metadata": {
  "language_info": {
   "name": "python"
  }
 },
 "nbformat": 4,
 "nbformat_minor": 2
}
